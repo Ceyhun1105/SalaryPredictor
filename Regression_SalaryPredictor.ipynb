{
  "nbformat": 4,
  "nbformat_minor": 0,
  "metadata": {
    "colab": {
      "provenance": []
    },
    "kernelspec": {
      "name": "python3",
      "display_name": "Python 3"
    },
    "language_info": {
      "name": "python"
    },
    "accelerator": "TPU"
  },
  "cells": [
    {
      "cell_type": "code",
      "execution_count": 1,
      "metadata": {
        "id": "r1GzoODqN8nl"
      },
      "outputs": [],
      "source": [
        "# import essential libraries\n",
        "\n",
        "import pandas as pd\n",
        "import tensorflow as tf\n",
        "from sklearn.model_selection import train_test_split\n",
        "import matplotlib.pyplot as plt\n"
      ]
    },
    {
      "cell_type": "code",
      "source": [
        "# read the excell file\n",
        "mydata = pd.read_excel(\"/content/SalaryPredict.xls\")"
      ],
      "metadata": {
        "id": "iHLxM7g9OLdA"
      },
      "execution_count": 2,
      "outputs": []
    },
    {
      "cell_type": "code",
      "source": [
        "# Delete Columns which don't have effect to label\n",
        "mydata = mydata.drop(['IDNUMBER', 'OBS'], axis=1)"
      ],
      "metadata": {
        "id": "OK9mhhYtO3B5"
      },
      "execution_count": 3,
      "outputs": []
    },
    {
      "cell_type": "code",
      "source": [
        "# Create feauters and labels\n",
        "y = mydata['SALARY']\n",
        "X = mydata.drop('SALARY',axis=1)"
      ],
      "metadata": {
        "id": "3-3U3VsDO5tH"
      },
      "execution_count": 4,
      "outputs": []
    },
    {
      "cell_type": "code",
      "source": [
        "# create a column transformer\n",
        "from sklearn.compose import make_column_transformer\n",
        "from sklearn.preprocessing import MinMaxScaler\n",
        "\n",
        "ct = make_column_transformer(\n",
        "    (MinMaxScaler() , ['LOGSAL', 'EDUC', 'SALBEGIN', 'LOGSALBEGIN' ])\n",
        ")\n",
        "\n",
        "# set the train and test datas\n",
        "X_train, X_test , y_train , y_test = train_test_split(X, y , test_size=0.2, random_state=42)\n",
        "# X_train = X[:380]\n",
        "# X_test = X[380:]\n",
        "\n",
        "# y_train = y[:380]\n",
        "# y_test = y[380:]\n",
        "\n",
        "\n",
        "# fit the column transformer to our training data\n",
        "ct.fit(X_train)\n",
        "\n",
        "# transform training and testing datas with normalization\n",
        "\n",
        "X_train_normal = ct.transform(X_train)\n",
        "X_test_normal = ct.transform(X_test)"
      ],
      "metadata": {
        "id": "mcxNEZTmgBZe"
      },
      "execution_count": 5,
      "outputs": []
    },
    {
      "cell_type": "code",
      "source": [
        "# set random seed\n",
        "tf.random.set_seed(42)\n",
        "\n",
        "epoch_callback = tf.keras.callbacks.EarlyStopping( monitor='loss', patience = 15 , min_delta=20, mode='min', restore_best_weights=True )\n",
        "\n",
        "\n",
        "# create a model\n",
        "model = tf.keras.Sequential([\n",
        "    tf.keras.layers.Dense(30, activation='relu'),\n",
        "    tf.keras.layers.Dense(10, activation='relu'),\n",
        "    tf.keras.layers.Dense(1)\n",
        "])\n",
        "\n",
        "# compile the model\n",
        "model.compile(loss = 'mae',\n",
        "              optimizer = tf.keras.optimizers.Adam(learning_rate=0.15),\n",
        "              metrics=['mae'])\n",
        "\n",
        "# fit the model (epochs are a number of learning, verbose=0 means that training doesn't show epochs)\n",
        "history = model.fit(X_train_normal,\n",
        "                    y_train,\n",
        "                    epochs=300,\n",
        "                    callbacks=[epoch_callback])\n",
        "\n",
        "# save the model\n",
        "model.save(\"NormalizationModel.keras\")"
      ],
      "metadata": {
        "colab": {
          "base_uri": "https://localhost:8080/"
        },
        "id": "zzwB2Hu8RN-q",
        "outputId": "b0afb643-7a56-4564-f940-cee2f8347d3c"
      },
      "execution_count": 10,
      "outputs": [
        {
          "output_type": "stream",
          "name": "stdout",
          "text": [
            "Epoch 1/300\n",
            "12/12 [==============================] - 2s 6ms/step - loss: 34683.5469 - mae: 34683.5469\n",
            "Epoch 2/300\n",
            "12/12 [==============================] - 0s 6ms/step - loss: 32344.7500 - mae: 32344.7500\n",
            "Epoch 3/300\n",
            "12/12 [==============================] - 0s 6ms/step - loss: 20584.3652 - mae: 20584.3652\n",
            "Epoch 4/300\n",
            "12/12 [==============================] - 0s 5ms/step - loss: 7883.9263 - mae: 7883.9263\n",
            "Epoch 5/300\n",
            "12/12 [==============================] - 0s 7ms/step - loss: 6258.7632 - mae: 6258.7632\n",
            "Epoch 6/300\n",
            "12/12 [==============================] - 0s 7ms/step - loss: 5756.3584 - mae: 5756.3584\n",
            "Epoch 7/300\n",
            "12/12 [==============================] - 0s 7ms/step - loss: 5070.6738 - mae: 5070.6738\n",
            "Epoch 8/300\n",
            "12/12 [==============================] - 0s 5ms/step - loss: 4513.3706 - mae: 4513.3706\n",
            "Epoch 9/300\n",
            "12/12 [==============================] - 0s 5ms/step - loss: 4232.3242 - mae: 4232.3242\n",
            "Epoch 10/300\n",
            "12/12 [==============================] - 0s 5ms/step - loss: 4073.7791 - mae: 4073.7791\n",
            "Epoch 11/300\n",
            "12/12 [==============================] - 0s 6ms/step - loss: 4005.0115 - mae: 4005.0115\n",
            "Epoch 12/300\n",
            "12/12 [==============================] - 0s 4ms/step - loss: 3858.1729 - mae: 3858.1729\n",
            "Epoch 13/300\n",
            "12/12 [==============================] - 0s 4ms/step - loss: 3702.0186 - mae: 3702.0186\n",
            "Epoch 14/300\n",
            "12/12 [==============================] - 0s 4ms/step - loss: 3456.5752 - mae: 3456.5752\n",
            "Epoch 15/300\n",
            "12/12 [==============================] - 0s 4ms/step - loss: 3355.8418 - mae: 3355.8418\n",
            "Epoch 16/300\n",
            "12/12 [==============================] - 0s 4ms/step - loss: 3304.6260 - mae: 3304.6260\n",
            "Epoch 17/300\n",
            "12/12 [==============================] - 0s 5ms/step - loss: 3388.9546 - mae: 3388.9546\n",
            "Epoch 18/300\n",
            "12/12 [==============================] - 0s 6ms/step - loss: 3218.7341 - mae: 3218.7341\n",
            "Epoch 19/300\n",
            "12/12 [==============================] - 0s 4ms/step - loss: 3115.1262 - mae: 3115.1262\n",
            "Epoch 20/300\n",
            "12/12 [==============================] - 0s 6ms/step - loss: 2992.9333 - mae: 2992.9333\n",
            "Epoch 21/300\n",
            "12/12 [==============================] - 0s 5ms/step - loss: 2966.9890 - mae: 2966.9890\n",
            "Epoch 22/300\n",
            "12/12 [==============================] - 0s 4ms/step - loss: 2857.3098 - mae: 2857.3098\n",
            "Epoch 23/300\n",
            "12/12 [==============================] - 0s 7ms/step - loss: 2807.3601 - mae: 2807.3601\n",
            "Epoch 24/300\n",
            "12/12 [==============================] - 0s 4ms/step - loss: 2813.3694 - mae: 2813.3694\n",
            "Epoch 25/300\n",
            "12/12 [==============================] - 0s 4ms/step - loss: 2811.6553 - mae: 2811.6553\n",
            "Epoch 26/300\n",
            "12/12 [==============================] - 0s 11ms/step - loss: 2694.4707 - mae: 2694.4707\n",
            "Epoch 27/300\n",
            "12/12 [==============================] - 0s 5ms/step - loss: 2658.1360 - mae: 2658.1360\n",
            "Epoch 28/300\n",
            "12/12 [==============================] - 0s 9ms/step - loss: 2537.6152 - mae: 2537.6152\n",
            "Epoch 29/300\n",
            "12/12 [==============================] - 0s 7ms/step - loss: 2431.5918 - mae: 2431.5918\n",
            "Epoch 30/300\n",
            "12/12 [==============================] - 0s 8ms/step - loss: 2419.3677 - mae: 2419.3677\n",
            "Epoch 31/300\n",
            "12/12 [==============================] - 0s 8ms/step - loss: 2392.1213 - mae: 2392.1213\n",
            "Epoch 32/300\n",
            "12/12 [==============================] - 0s 4ms/step - loss: 2335.7930 - mae: 2335.7930\n",
            "Epoch 33/300\n",
            "12/12 [==============================] - 0s 7ms/step - loss: 2309.8633 - mae: 2309.8633\n",
            "Epoch 34/300\n",
            "12/12 [==============================] - 0s 4ms/step - loss: 2297.5486 - mae: 2297.5486\n",
            "Epoch 35/300\n",
            "12/12 [==============================] - 0s 7ms/step - loss: 2338.1653 - mae: 2338.1653\n",
            "Epoch 36/300\n",
            "12/12 [==============================] - 0s 6ms/step - loss: 2238.2146 - mae: 2238.2146\n",
            "Epoch 37/300\n",
            "12/12 [==============================] - 0s 4ms/step - loss: 2264.5098 - mae: 2264.5098\n",
            "Epoch 38/300\n",
            "12/12 [==============================] - 0s 7ms/step - loss: 2293.1289 - mae: 2293.1289\n",
            "Epoch 39/300\n",
            "12/12 [==============================] - 0s 11ms/step - loss: 2217.4712 - mae: 2217.4712\n",
            "Epoch 40/300\n",
            "12/12 [==============================] - 0s 12ms/step - loss: 2194.3555 - mae: 2194.3555\n",
            "Epoch 41/300\n",
            "12/12 [==============================] - 0s 8ms/step - loss: 2222.3872 - mae: 2222.3872\n",
            "Epoch 42/300\n",
            "12/12 [==============================] - 0s 8ms/step - loss: 2342.4495 - mae: 2342.4495\n",
            "Epoch 43/300\n",
            "12/12 [==============================] - 0s 7ms/step - loss: 2170.2646 - mae: 2170.2646\n",
            "Epoch 44/300\n",
            "12/12 [==============================] - 0s 9ms/step - loss: 2189.8186 - mae: 2189.8186\n",
            "Epoch 45/300\n",
            "12/12 [==============================] - 0s 13ms/step - loss: 2174.8613 - mae: 2174.8613\n",
            "Epoch 46/300\n",
            "12/12 [==============================] - 0s 12ms/step - loss: 2119.4548 - mae: 2119.4548\n",
            "Epoch 47/300\n",
            "12/12 [==============================] - 0s 7ms/step - loss: 2121.3418 - mae: 2121.3418\n",
            "Epoch 48/300\n",
            "12/12 [==============================] - 0s 7ms/step - loss: 2126.6807 - mae: 2126.6807\n",
            "Epoch 49/300\n",
            "12/12 [==============================] - 0s 14ms/step - loss: 2060.4856 - mae: 2060.4856\n",
            "Epoch 50/300\n",
            "12/12 [==============================] - 0s 12ms/step - loss: 2048.1548 - mae: 2048.1548\n",
            "Epoch 51/300\n",
            "12/12 [==============================] - 0s 9ms/step - loss: 2066.2671 - mae: 2066.2671\n",
            "Epoch 52/300\n",
            "12/12 [==============================] - 0s 9ms/step - loss: 2026.3501 - mae: 2026.3501\n",
            "Epoch 53/300\n",
            "12/12 [==============================] - 0s 8ms/step - loss: 2082.8242 - mae: 2082.8242\n",
            "Epoch 54/300\n",
            "12/12 [==============================] - 0s 8ms/step - loss: 2018.2791 - mae: 2018.2791\n",
            "Epoch 55/300\n",
            "12/12 [==============================] - 0s 7ms/step - loss: 1941.6482 - mae: 1941.6482\n",
            "Epoch 56/300\n",
            "12/12 [==============================] - 0s 8ms/step - loss: 1918.8425 - mae: 1918.8425\n",
            "Epoch 57/300\n",
            "12/12 [==============================] - 0s 7ms/step - loss: 1863.8403 - mae: 1863.8403\n",
            "Epoch 58/300\n",
            "12/12 [==============================] - 0s 6ms/step - loss: 1824.9192 - mae: 1824.9192\n",
            "Epoch 59/300\n",
            "12/12 [==============================] - 0s 15ms/step - loss: 1783.4094 - mae: 1783.4094\n",
            "Epoch 60/300\n",
            "12/12 [==============================] - 0s 19ms/step - loss: 1730.9022 - mae: 1730.9022\n",
            "Epoch 61/300\n",
            "12/12 [==============================] - 0s 15ms/step - loss: 1756.4806 - mae: 1756.4806\n",
            "Epoch 62/300\n",
            "12/12 [==============================] - 0s 20ms/step - loss: 1690.6952 - mae: 1690.6952\n",
            "Epoch 63/300\n",
            "12/12 [==============================] - 0s 19ms/step - loss: 1607.4801 - mae: 1607.4801\n",
            "Epoch 64/300\n",
            "12/12 [==============================] - 0s 15ms/step - loss: 1568.7954 - mae: 1568.7954\n",
            "Epoch 65/300\n",
            "12/12 [==============================] - 0s 11ms/step - loss: 1707.8816 - mae: 1707.8816\n",
            "Epoch 66/300\n",
            "12/12 [==============================] - 0s 7ms/step - loss: 1530.3060 - mae: 1530.3060\n",
            "Epoch 67/300\n",
            "12/12 [==============================] - 0s 4ms/step - loss: 1582.1025 - mae: 1582.1025\n",
            "Epoch 68/300\n",
            "12/12 [==============================] - 0s 4ms/step - loss: 1494.2186 - mae: 1494.2186\n",
            "Epoch 69/300\n",
            "12/12 [==============================] - 0s 3ms/step - loss: 1451.4071 - mae: 1451.4071\n",
            "Epoch 70/300\n",
            "12/12 [==============================] - 0s 4ms/step - loss: 1373.7516 - mae: 1373.7516\n",
            "Epoch 71/300\n",
            "12/12 [==============================] - 0s 3ms/step - loss: 1361.1046 - mae: 1361.1046\n",
            "Epoch 72/300\n",
            "12/12 [==============================] - 0s 4ms/step - loss: 1308.7078 - mae: 1308.7078\n",
            "Epoch 73/300\n",
            "12/12 [==============================] - 0s 4ms/step - loss: 1272.5658 - mae: 1272.5658\n",
            "Epoch 74/300\n",
            "12/12 [==============================] - 0s 4ms/step - loss: 1265.0846 - mae: 1265.0846\n",
            "Epoch 75/300\n",
            "12/12 [==============================] - 0s 4ms/step - loss: 1212.5154 - mae: 1212.5154\n",
            "Epoch 76/300\n",
            "12/12 [==============================] - 0s 2ms/step - loss: 1209.5883 - mae: 1209.5883\n",
            "Epoch 77/300\n",
            "12/12 [==============================] - 0s 3ms/step - loss: 1349.3910 - mae: 1349.3910\n",
            "Epoch 78/300\n",
            "12/12 [==============================] - 0s 3ms/step - loss: 1464.2740 - mae: 1464.2740\n",
            "Epoch 79/300\n",
            "12/12 [==============================] - 0s 2ms/step - loss: 1326.4468 - mae: 1326.4468\n",
            "Epoch 80/300\n",
            "12/12 [==============================] - 0s 3ms/step - loss: 1175.5242 - mae: 1175.5242\n",
            "Epoch 81/300\n",
            "12/12 [==============================] - 0s 2ms/step - loss: 1180.0991 - mae: 1180.0991\n",
            "Epoch 82/300\n",
            "12/12 [==============================] - 0s 3ms/step - loss: 1249.0757 - mae: 1249.0757\n",
            "Epoch 83/300\n",
            "12/12 [==============================] - 0s 2ms/step - loss: 1193.3303 - mae: 1193.3303\n",
            "Epoch 84/300\n",
            "12/12 [==============================] - 0s 3ms/step - loss: 1124.8063 - mae: 1124.8063\n",
            "Epoch 85/300\n",
            "12/12 [==============================] - 0s 3ms/step - loss: 1060.0667 - mae: 1060.0667\n",
            "Epoch 86/300\n",
            "12/12 [==============================] - 0s 2ms/step - loss: 1051.8673 - mae: 1051.8673\n",
            "Epoch 87/300\n",
            "12/12 [==============================] - 0s 3ms/step - loss: 1025.4513 - mae: 1025.4513\n",
            "Epoch 88/300\n",
            "12/12 [==============================] - 0s 2ms/step - loss: 1064.4585 - mae: 1064.4585\n",
            "Epoch 89/300\n",
            "12/12 [==============================] - 0s 3ms/step - loss: 1017.6290 - mae: 1017.6290\n",
            "Epoch 90/300\n",
            "12/12 [==============================] - 0s 3ms/step - loss: 1022.6631 - mae: 1022.6631\n",
            "Epoch 91/300\n",
            "12/12 [==============================] - 0s 2ms/step - loss: 977.3107 - mae: 977.3107\n",
            "Epoch 92/300\n",
            "12/12 [==============================] - 0s 2ms/step - loss: 1013.4880 - mae: 1013.4880\n",
            "Epoch 93/300\n",
            "12/12 [==============================] - 0s 3ms/step - loss: 1053.4281 - mae: 1053.4281\n",
            "Epoch 94/300\n",
            "12/12 [==============================] - 0s 3ms/step - loss: 1056.0327 - mae: 1056.0327\n",
            "Epoch 95/300\n",
            "12/12 [==============================] - 0s 2ms/step - loss: 955.3029 - mae: 955.3029\n",
            "Epoch 96/300\n",
            "12/12 [==============================] - 0s 3ms/step - loss: 920.4615 - mae: 920.4615\n",
            "Epoch 97/300\n",
            "12/12 [==============================] - 0s 3ms/step - loss: 953.5760 - mae: 953.5760\n",
            "Epoch 98/300\n",
            "12/12 [==============================] - 0s 3ms/step - loss: 906.5503 - mae: 906.5503\n",
            "Epoch 99/300\n",
            "12/12 [==============================] - 0s 2ms/step - loss: 946.7946 - mae: 946.7946\n",
            "Epoch 100/300\n",
            "12/12 [==============================] - 0s 3ms/step - loss: 927.8352 - mae: 927.8352\n",
            "Epoch 101/300\n",
            "12/12 [==============================] - 0s 2ms/step - loss: 1090.4352 - mae: 1090.4352\n",
            "Epoch 102/300\n",
            "12/12 [==============================] - 0s 3ms/step - loss: 1078.2129 - mae: 1078.2129\n",
            "Epoch 103/300\n",
            "12/12 [==============================] - 0s 3ms/step - loss: 829.1287 - mae: 829.1287\n",
            "Epoch 104/300\n",
            "12/12 [==============================] - 0s 2ms/step - loss: 819.4538 - mae: 819.4538\n",
            "Epoch 105/300\n",
            "12/12 [==============================] - 0s 3ms/step - loss: 853.0546 - mae: 853.0546\n",
            "Epoch 106/300\n",
            "12/12 [==============================] - 0s 3ms/step - loss: 813.3708 - mae: 813.3708\n",
            "Epoch 107/300\n",
            "12/12 [==============================] - 0s 3ms/step - loss: 823.9476 - mae: 823.9476\n",
            "Epoch 108/300\n",
            "12/12 [==============================] - 0s 3ms/step - loss: 801.2236 - mae: 801.2236\n",
            "Epoch 109/300\n",
            "12/12 [==============================] - 0s 2ms/step - loss: 804.4479 - mae: 804.4479\n",
            "Epoch 110/300\n",
            "12/12 [==============================] - 0s 2ms/step - loss: 838.1381 - mae: 838.1381\n",
            "Epoch 111/300\n",
            "12/12 [==============================] - 0s 3ms/step - loss: 799.7028 - mae: 799.7028\n",
            "Epoch 112/300\n",
            "12/12 [==============================] - 0s 3ms/step - loss: 886.2547 - mae: 886.2547\n",
            "Epoch 113/300\n",
            "12/12 [==============================] - 0s 3ms/step - loss: 778.5686 - mae: 778.5686\n",
            "Epoch 114/300\n",
            "12/12 [==============================] - 0s 3ms/step - loss: 843.5814 - mae: 843.5814\n",
            "Epoch 115/300\n",
            "12/12 [==============================] - 0s 3ms/step - loss: 768.1351 - mae: 768.1351\n",
            "Epoch 116/300\n",
            "12/12 [==============================] - 0s 3ms/step - loss: 759.4308 - mae: 759.4308\n",
            "Epoch 117/300\n",
            "12/12 [==============================] - 0s 3ms/step - loss: 788.2961 - mae: 788.2961\n",
            "Epoch 118/300\n",
            "12/12 [==============================] - 0s 3ms/step - loss: 746.9636 - mae: 746.9636\n",
            "Epoch 119/300\n",
            "12/12 [==============================] - 0s 2ms/step - loss: 798.1102 - mae: 798.1102\n",
            "Epoch 120/300\n",
            "12/12 [==============================] - 0s 3ms/step - loss: 705.8822 - mae: 705.8821\n",
            "Epoch 121/300\n",
            "12/12 [==============================] - 0s 3ms/step - loss: 767.8565 - mae: 767.8565\n",
            "Epoch 122/300\n",
            "12/12 [==============================] - 0s 3ms/step - loss: 951.1122 - mae: 951.1122\n",
            "Epoch 123/300\n",
            "12/12 [==============================] - 0s 3ms/step - loss: 828.3452 - mae: 828.3452\n",
            "Epoch 124/300\n",
            "12/12 [==============================] - 0s 3ms/step - loss: 733.9678 - mae: 733.9678\n",
            "Epoch 125/300\n",
            "12/12 [==============================] - 0s 3ms/step - loss: 759.9915 - mae: 759.9915\n",
            "Epoch 126/300\n",
            "12/12 [==============================] - 0s 3ms/step - loss: 745.4580 - mae: 745.4580\n",
            "Epoch 127/300\n",
            "12/12 [==============================] - 0s 3ms/step - loss: 877.7348 - mae: 877.7348\n",
            "Epoch 128/300\n",
            "12/12 [==============================] - 0s 3ms/step - loss: 818.0187 - mae: 818.0187\n",
            "Epoch 129/300\n",
            "12/12 [==============================] - 0s 3ms/step - loss: 767.2606 - mae: 767.2606\n",
            "Epoch 130/300\n",
            "12/12 [==============================] - 0s 3ms/step - loss: 735.1120 - mae: 735.1120\n",
            "Epoch 131/300\n",
            "12/12 [==============================] - 0s 2ms/step - loss: 735.0591 - mae: 735.0591\n",
            "Epoch 132/300\n",
            "12/12 [==============================] - 0s 2ms/step - loss: 724.4999 - mae: 724.4999\n",
            "Epoch 133/300\n",
            "12/12 [==============================] - 0s 3ms/step - loss: 687.8720 - mae: 687.8720\n",
            "Epoch 134/300\n",
            "12/12 [==============================] - 0s 3ms/step - loss: 718.8233 - mae: 718.8233\n",
            "Epoch 135/300\n",
            "12/12 [==============================] - 0s 4ms/step - loss: 804.5724 - mae: 804.5724\n"
          ]
        }
      ]
    },
    {
      "cell_type": "code",
      "source": [
        "# lets plot history\n",
        "\n",
        "pd.DataFrame(history.history).plot()"
      ],
      "metadata": {
        "colab": {
          "base_uri": "https://localhost:8080/",
          "height": 447
        },
        "id": "MHEYVh40i_QU",
        "outputId": "abab5bca-a461-4b70-b3bf-0c63c986e7d6"
      },
      "execution_count": 11,
      "outputs": [
        {
          "output_type": "execute_result",
          "data": {
            "text/plain": [
              "<Axes: >"
            ]
          },
          "metadata": {},
          "execution_count": 11
        },
        {
          "output_type": "display_data",
          "data": {
            "text/plain": [
              "<Figure size 640x480 with 1 Axes>"
            ],
            "image/png": "[encoded data removed]"
          },
          "metadata": {}
        }
      ]
    },
    {
      "cell_type": "code",
      "source": [
        "# Lets predict with testing datas\n",
        "y_pred = model.predict(X_test_normal)\n",
        "\n",
        "# Lets evaluate the model\n",
        "model.evaluate(X_test_normal, y_test)"
      ],
      "metadata": {
        "colab": {
          "base_uri": "https://localhost:8080/"
        },
        "id": "BqQELm6HZD2P",
        "outputId": "c992be4e-8b95-499d-b51f-6cfddf2c771b"
      },
      "execution_count": 12,
      "outputs": [
        {
          "output_type": "stream",
          "name": "stdout",
          "text": [
            "3/3 [==============================] - 0s 4ms/step\n",
            "3/3 [==============================] - 0s 8ms/step - loss: 612.6802 - mae: 612.6802\n"
          ]
        },
        {
          "output_type": "execute_result",
          "data": {
            "text/plain": [
              "[612.6802368164062, 612.6802368164062]"
            ]
          },
          "metadata": {},
          "execution_count": 12
        }
      ]
    },
    {
      "cell_type": "code",
      "source": [
        "# plot the model predicts and test data\n",
        "\n",
        "plt.scatter(X_test_normal[:,0], y_pred, c='r', label=\"Predicted values\")\n",
        "plt.scatter(X_test_normal[:,0], y_test, c='b', label=\"Test datas\")\n",
        "plt.legend()"
      ],
      "metadata": {
        "colab": {
          "base_uri": "https://localhost:8080/",
          "height": 447
        },
        "id": "MLnt40WSZhEh",
        "outputId": "2266d58e-6c27-451a-9809-883ceb07bbaf"
      },
      "execution_count": 13,
      "outputs": [
        {
          "output_type": "execute_result",
          "data": {
            "text/plain": [
              "<matplotlib.legend.Legend at 0x7b9e5c526c80>"
            ]
          },
          "metadata": {},
          "execution_count": 13
        },
        {
          "output_type": "display_data",
          "data": {
            "text/plain": [
              "<Figure size 640x480 with 1 Axes>"
            ],
            "image/png": "[encoded data removed]"
          },
          "metadata": {}
        }
      ]
    },
    {
      "cell_type": "code",
      "source": [],
      "metadata": {
        "id": "YHL6CaMsf8Tf"
      },
      "execution_count": 9,
      "outputs": []
    }
  ]
}